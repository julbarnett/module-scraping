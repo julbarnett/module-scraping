{
 "cells": [
  {
   "cell_type": "code",
   "execution_count": 1,
   "metadata": {
    "autoscroll": false,
    "ein.hycell": false,
    "ein.tags": "worksheet-0",
    "slideshow": {
     "slide_type": "-"
    }
   },
   "outputs": [],
   "source": [
    "# Our jupyter/datascience-notebook Docker container comes with \n",
    "# BeautifulSoup4 and requests, both popular libraries!\n",
    "\n",
    "from bs4 import BeautifulSoup\n",
    "import requests"
   ]
  },
  {
   "cell_type": "code",
   "execution_count": 2,
   "metadata": {
    "autoscroll": false,
    "ein.hycell": false,
    "ein.tags": "worksheet-0",
    "slideshow": {
     "slide_type": "-"
    }
   },
   "outputs": [],
   "source": [
    "START_URL = 'https://brickset.com/sets/year-2016'"
   ]
  },
  {
   "cell_type": "code",
   "execution_count": 190,
   "metadata": {
    "autoscroll": false,
    "ein.hycell": false,
    "ein.tags": "worksheet-0",
    "slideshow": {
     "slide_type": "-"
    }
   },
   "outputs": [],
   "source": [
    "def get_titles(soup):    \n",
    "    \"\"\" Returns a list of titles on the page \"\"\"\n",
    "    # the \"soup\" parameter is of the type that is\n",
    "    # returned by Beautiful Soup when it parses HTML.\n",
    "    # The function should then use the object to\n",
    "    # extract a list of titles (of the lego sets)\n",
    "    #\n",
    "    # Lookup the documentation for Beautiful Soup\n",
    "    # Figure out how to select the text of the title\n",
    "    # of each legoset. A title should look like: \n",
    "    # \"10252: Volkswagen Beetle\"\n",
    "    \n",
    "    pass\n",
    "\n",
    "def parse_bricks(URL):\n",
    "    \"\"\" Fetches Lego Bricks page and extracts titles \"\"\"\n",
    "    # Lookup the documentation to the \"requests\" library\n",
    "    #\n",
    "    # Use requests to make a get request to the\n",
    "    # url given in the argument \"url\" (which is a string)\n",
    "    # and get the raw HTML body of the response\n",
    "    #\n",
    "    # Use \"BeautifulSoup\" to parse this HTML. \n",
    "    #\n",
    "    # Use the \"get_titles\" function to extract the\n",
    "    # titles from the BeautifulSoup object.\n",
    "    #\n",
    "    # Return the titles\n",
    "    response = requests.get(URL)\n",
    "    soup = BeautifulSoup(response.text, 'html.parser')\n",
    "    \n",
    "    numbers = soup.select(\".meta > h1 > a > span\")\n",
    "    numbers[0]\n",
    "\n",
    "    numbers_list = []\n",
    "\n",
    "    for number in range(0, len(numbers)):\n",
    "        newnumber = str(numbers[number]).split(\"<span>\",1)[1]\n",
    "        newnumber = newnumber[:-7]\n",
    "        numbers_list.append(newnumber)\n",
    "        \n",
    "    titles = soup.select(\".meta > h1 > a\")\n",
    "\n",
    "    title_list = []\n",
    "\n",
    "    for i in range(0, len(titles)):\n",
    "        newtitle = str(titles[i]).split(\"</span>\",1)[1]\n",
    "        newtitle = newtitle[:-4]\n",
    "        title_list.append(newtitle)\n",
    "        \n",
    "    final_list = []\n",
    "\n",
    "    for x in range(0, len(title_list)):\n",
    "        final_list.append(numbers_list[x] + title_list[x])\n",
    "        \n",
    "    return final_list"
   ]
  },
  {
   "cell_type": "code",
   "execution_count": null,
   "metadata": {},
   "outputs": [],
   "source": [
    "response = requests.get(START_URL)\n",
    "soup = BeautifulSoup(response.text, 'html.parser')"
   ]
  },
  {
   "cell_type": "code",
   "execution_count": 185,
   "metadata": {},
   "outputs": [
    {
     "name": "stdout",
     "output_type": "stream",
     "text": [
      "['10251: ', '10252: ', '10253: ', '10254: ', '10654: ', '10702: ', '10705: ', '10720: ', '10721: ', '10722: ', '10723: ', '10724: ', '10725: ', '10726: ', '10727: ', '10728: ', '10729: ', '10801: ', '10802: ', '10803: ', '10804: ', '10805: ', '10806: ', '10807: ', '10808: ']\n"
     ]
    }
   ],
   "source": [
    "numbers = soup.select(\".meta > h1 > a > span\")\n",
    "numbers[0]\n",
    "\n",
    "numbers_list = []\n",
    "\n",
    "for number in range(0, len(numbers)):\n",
    "    newnumber = str(numbers[number]).split(\"<span>\",1)[1]\n",
    "    newnumber = newnumber[:-7]\n",
    "    numbers_list.append(newnumber)\n",
    "    \n",
    "print(numbers_list)"
   ]
  },
  {
   "cell_type": "code",
   "execution_count": 122,
   "metadata": {
    "scrolled": true
   },
   "outputs": [
    {
     "name": "stdout",
     "output_type": "stream",
     "text": [
      "[' Brick Bank', ' Volkswagen Beetle', ' Big Ben', ' Winter Holiday Train', ' XL Creative Brick Box', ' Creative Building Set', ' Creative Building Basket', ' Police Helicopter Chase', ' Iron Man vs. Loki', ' Snake Showdown', \" Ariel's Dolphin Carriage\", ' Batman &amp; Superman vs. Lex Luthor', ' Lost Temple', \" Stephanie's Horse Carriage\", \" Emma's Ice Cream Truck\", \" Mia's Vet Clinic\", \" Cinderella's Carriage\", ' Baby Animals', ' Savanna', ' Arctic', ' Jungle', ' Around the World', ' Horses', ' Horse Trailer', ' Little Plane']\n"
     ]
    }
   ],
   "source": [
    "titles = soup.select(\".meta > h1 > a\")\n",
    "\n",
    "title_list = []\n",
    "\n",
    "for i in range(0, len(titles)):\n",
    "    newtitle = str(titles[i]).split(\"</span>\",1)[1]\n",
    "    newtitle = newtitle[:-4]\n",
    "    title_list.append(newtitle)\n",
    "    \n",
    "print(title_list)"
   ]
  },
  {
   "cell_type": "code",
   "execution_count": 183,
   "metadata": {},
   "outputs": [],
   "source": [
    "final_list = []\n",
    "\n",
    "for x in range(0, len(title_list)):\n",
    "    final_list.append(numbers_list[x] + title_list[x])"
   ]
  },
  {
   "cell_type": "code",
   "execution_count": 195,
   "metadata": {
    "autoscroll": false,
    "ein.hycell": false,
    "ein.tags": "worksheet-0",
    "slideshow": {
     "slide_type": "-"
    }
   },
   "outputs": [
    {
     "data": {
      "text/plain": [
       "'10722:  Snake Showdown'"
      ]
     },
     "execution_count": 195,
     "metadata": {},
     "output_type": "execute_result"
    }
   ],
   "source": [
    "bricks = parse_bricks(START_URL)\n",
    "\n",
    "bricks[9]"
   ]
  },
  {
   "cell_type": "code",
   "execution_count": 192,
   "metadata": {
    "autoscroll": false,
    "ein.hycell": false,
    "ein.tags": "worksheet-0",
    "slideshow": {
     "slide_type": "-"
    }
   },
   "outputs": [],
   "source": [
    "assert(bricks[0] == '10251:  Brick Bank')\n",
    "assert(bricks[9] == '10722:  Snake Showdown')"
   ]
  }
 ],
 "metadata": {
  "kernelspec": {
   "display_name": "Python 3",
   "language": "python",
   "name": "python3"
  },
  "language_info": {
   "codemirror_mode": {
    "name": "ipython",
    "version": 3
   },
   "file_extension": ".py",
   "mimetype": "text/x-python",
   "name": "python",
   "nbconvert_exporter": "python",
   "pygments_lexer": "ipython3",
   "version": "3.6.3"
  },
  "name": "exercises.ipynb"
 },
 "nbformat": 4,
 "nbformat_minor": 2
}
